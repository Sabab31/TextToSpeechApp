{
 "cells": [
  {
   "cell_type": "code",
   "execution_count": 10,
   "id": "146c9f3e",
   "metadata": {},
   "outputs": [],
   "source": [
    "from tkinter import *\n",
    "from tkinter.ttk import *"
   ]
  },
  {
   "cell_type": "code",
   "execution_count": 11,
   "id": "2992e56c",
   "metadata": {},
   "outputs": [
    {
     "data": {
      "text/plain": [
       "''"
      ]
     },
     "execution_count": 11,
     "metadata": {},
     "output_type": "execute_result"
    }
   ],
   "source": [
    "root=Tk()\n",
    "\n",
    "root.iconbitmap('icon.ico')\n",
    "root.title(\"Text to Speech\")"
   ]
  },
  {
   "cell_type": "markdown",
   "id": "0c36b308",
   "metadata": {},
   "source": [
    "# Inserting Text Area"
   ]
  },
  {
   "cell_type": "code",
   "execution_count": 12,
   "id": "4ff7ef6d",
   "metadata": {},
   "outputs": [],
   "source": [
    "textArea=Text(root,height=20,width=90)\n",
    "textArea.pack()"
   ]
  },
  {
   "cell_type": "markdown",
   "id": "39e4d333",
   "metadata": {},
   "source": [
    "# Spinbox for Speech Tempo"
   ]
  },
  {
   "cell_type": "code",
   "execution_count": 13,
   "id": "43cca3f7",
   "metadata": {},
   "outputs": [],
   "source": [
    "lblsp=Label(root, text ='Set the Speech Tempo',font = \"50\") \n",
    "lblsp.pack()\n",
    "sp=Spinbox(root, from_= 100, to = 300) \n",
    "sp.pack()"
   ]
  },
  {
   "cell_type": "markdown",
   "id": "0367abf8",
   "metadata": {},
   "source": [
    "# Button For Reading"
   ]
  },
  {
   "cell_type": "markdown",
   "id": "6aba4707",
   "metadata": {},
   "source": [
    "Action method for readButton"
   ]
  },
  {
   "cell_type": "code",
   "execution_count": 14,
   "id": "1cfc0498",
   "metadata": {},
   "outputs": [],
   "source": [
    "def clickedRead():\n",
    "    try:\n",
    "        lblsp.config(text = \"Speech Tempo\")\n",
    "        import pyttsx3  \n",
    "        engine = pyttsx3.init()  \n",
    "        voiceTempo=sp.get()\n",
    "        engine.setProperty(\"rate\", int(voiceTempo))\n",
    "        text = textArea.get(\"1.0\",END)  \n",
    "        engine.say(text)    \n",
    "        engine.runAndWait()  \n",
    "        \n",
    "    except:\n",
    "        lblsp.config(text = \"The Speech Tempo value is null!! Please set the value first!!\")"
   ]
  },
  {
   "cell_type": "markdown",
   "id": "588a2287",
   "metadata": {},
   "source": [
    "Adding the Button"
   ]
  },
  {
   "cell_type": "code",
   "execution_count": 15,
   "id": "f076f95c",
   "metadata": {},
   "outputs": [],
   "source": [
    "import threading\n",
    "readButton=Button(root,text = \"Read\",command=lambda: threading.Thread(target=clickedRead, daemon=True).start())\n",
    "#readButton=Button(root,text = \"Read\",command=clickedRead)\n",
    "readButton.pack()"
   ]
  },
  {
   "cell_type": "markdown",
   "id": "5b93bf8b",
   "metadata": {},
   "source": [
    "# Clear Button"
   ]
  },
  {
   "cell_type": "markdown",
   "id": "ea828cb4",
   "metadata": {},
   "source": [
    "Action method for clearButton"
   ]
  },
  {
   "cell_type": "code",
   "execution_count": 16,
   "id": "2bf91189",
   "metadata": {},
   "outputs": [],
   "source": [
    "def clickedCLR():\n",
    "    textArea.delete(\"1.0\",\"end\")"
   ]
  },
  {
   "cell_type": "markdown",
   "id": "35181cfa",
   "metadata": {},
   "source": [
    "Adding the Button"
   ]
  },
  {
   "cell_type": "code",
   "execution_count": 17,
   "id": "5d54130d",
   "metadata": {},
   "outputs": [],
   "source": [
    "clearButton=Button(root,text = \"Clear All\",command=clickedCLR)\n",
    "clearButton.pack()"
   ]
  },
  {
   "cell_type": "markdown",
   "id": "14a3bc16",
   "metadata": {},
   "source": [
    "# Executing the frame"
   ]
  },
  {
   "cell_type": "code",
   "execution_count": null,
   "id": "8f2545f2",
   "metadata": {},
   "outputs": [],
   "source": [
    "root.mainloop()"
   ]
  },
  {
   "cell_type": "code",
   "execution_count": null,
   "id": "83ed7fcc",
   "metadata": {},
   "outputs": [],
   "source": []
  }
 ],
 "metadata": {
  "kernelspec": {
   "display_name": "Python 3 (ipykernel)",
   "language": "python",
   "name": "python3"
  },
  "language_info": {
   "codemirror_mode": {
    "name": "ipython",
    "version": 3
   },
   "file_extension": ".py",
   "mimetype": "text/x-python",
   "name": "python",
   "nbconvert_exporter": "python",
   "pygments_lexer": "ipython3",
   "version": "3.11.4"
  }
 },
 "nbformat": 4,
 "nbformat_minor": 5
}
